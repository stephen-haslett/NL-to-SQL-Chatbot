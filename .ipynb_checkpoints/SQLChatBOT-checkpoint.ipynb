{
 "cells": [
  {
   "cell_type": "markdown",
   "metadata": {},
   "source": [
    "Backend code for a simple natural language to SQL conversion chatbot application."
   ]
  },
  {
   "cell_type": "code",
   "execution_count": 11,
   "metadata": {
    "pycharm": {
     "name": "#%%\n"
    }
   },
   "outputs": [],
   "source": [
    "import os\n",
    "from langchain_openai import OpenAI\n",
    "from langchain.utilities import SQLDatabase\n",
    "from langchain_experimental.sql import SQLDatabaseChain\n",
    "\n",
    "# Connect to OpenAI.\n",
    "os.environ['OPENAI_API_KEY'] = 'INSERT-YOUR-OPENAI-API-KEY-HERE'"
   ]
  },
  {
   "cell_type": "code",
   "execution_count": 12,
   "metadata": {},
   "outputs": [],
   "source": [
    "# Connect to the Chinook database.\n",
    "db = SQLDatabase.from_uri(\"sqlite:///Chinook.db\")\n",
    "llm = OpenAI(temperature=0, verbose=True)\n",
    "db_chain = SQLDatabaseChain.from_llm(llm, db, verbose=True)"
   ]
  },
  {
   "cell_type": "code",
   "execution_count": 13,
   "metadata": {
    "pycharm": {
     "name": "#%%\n"
    }
   },
   "outputs": [
    {
     "name": "stdout",
     "output_type": "stream",
     "text": [
      "\n",
      "\n",
      "\u001B[1m> Entering new SQLDatabaseChain chain...\u001B[0m\n",
      "Fetch all customers with an address in New York, and a last name that begins with a letter between A and N\n",
      "SQLQuery:\u001B[32;1m\u001B[1;3mSELECT \"FirstName\", \"LastName\", \"Address\", \"City\", \"State\", \"Country\" FROM \"Customer\" WHERE \"State\" = 'NY' AND \"LastName\" BETWEEN 'A' AND 'N' ORDER BY \"LastName\" LIMIT 5\u001B[0m\n",
      "SQLResult: \u001B[33;1m\u001B[1;3m[('Michelle', 'Brooks', '627 Broadway', 'New York', 'NY', 'USA')]\u001B[0m\n",
      "Answer:\u001B[32;1m\u001B[1;3mMichelle Brooks\u001B[0m\n",
      "\u001B[1m> Finished chain.\u001B[0m\n",
      "{'query': 'Fetch all customers with an address in New York, and a last name that begins with a letter between A and N', 'result': 'Michelle Brooks'}\n"
     ]
    }
   ],
   "source": [
    "# Run a user database query.\n",
    "import time\n",
    "try:\n",
    "    # Query the Chinook database to return all customers with a last name\n",
    "    # beginning with a letter between A and N, and who live in New York.\n",
    "    response = db_chain.invoke(\"Fetch all customers with an address in New York,\" +\n",
    "                               \"and a last name that begins with a letter between A and N\")\n",
    "    # Print the response.\n",
    "    print(response)\n",
    "except Exception as e:\n",
    "    if \"RateLimitError\" in str(e):\n",
    "        print(\"Rate limit exceeded. Waiting before retrying...\")\n",
    "        time.sleep(600)\n",
    "    else:\n",
    "        raise\n"
   ]
  }
 ],
 "metadata": {
  "kernelspec": {
   "display_name": "Python 3 (ipykernel)",
   "language": "python",
   "name": "python3"
  },
  "language_info": {
   "codemirror_mode": {
    "name": "ipython",
    "version": 3
   },
   "file_extension": ".py",
   "mimetype": "text/x-python",
   "name": "python",
   "nbconvert_exporter": "python",
   "pygments_lexer": "ipython3",
   "version": "3.9.5"
  }
 },
 "nbformat": 4,
 "nbformat_minor": 1
}
